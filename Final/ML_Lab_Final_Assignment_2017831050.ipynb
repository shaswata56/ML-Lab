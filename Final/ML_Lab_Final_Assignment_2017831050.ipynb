{
  "nbformat": 4,
  "nbformat_minor": 0,
  "metadata": {
    "colab": {
      "provenance": []
    },
    "kernelspec": {
      "name": "python3",
      "display_name": "Python 3"
    },
    "language_info": {
      "name": "python"
    },
    "accelerator": "GPU",
    "gpuClass": "standard"
  },
  "cells": [
    {
      "cell_type": "markdown",
      "source": [
        "# Name: Shaswata Das\n",
        "# Registration No: 2017831050\n",
        "\n",
        "<a target=\"_blank\" href=\"https://colab.research.google.com/github/shaswata56/ML-Lab/blob/main/Final/ML_Lab_Final_Assignment.ipynb\">\n",
        "  <img src=\"https://colab.research.google.com/assets/colab-badge.svg\" alt=\"Open In Colab\"/>\n",
        "</a>"
      ],
      "metadata": {
        "id": "Gl8303mrsW_E"
      }
    },
    {
      "cell_type": "code",
      "source": [
        "# Importing Modules\n",
        "from keras.layers import Dense\n",
        "import matplotlib.pyplot as plt\n",
        "from keras.layers import Flatten\n",
        "from keras.layers import MaxPool2D\n",
        "from keras.models import Sequential\n",
        "from keras.layers import Convolution2D\n",
        "from keras.preprocessing.image import ImageDataGenerator\n",
        "import tensorflow as tf\n",
        "tf.test.gpu_device_name()"
      ],
      "metadata": {
        "colab": {
          "base_uri": "https://localhost:8080/",
          "height": 35
        },
        "id": "9HnIQqNSgbQz",
        "outputId": "c6b658bf-0016-456d-fd1b-70c2ec6232f5"
      },
      "execution_count": null,
      "outputs": [
        {
          "output_type": "execute_result",
          "data": {
            "text/plain": [
              "'/device:GPU:0'"
            ],
            "application/vnd.google.colaboratory.intrinsic+json": {
              "type": "string"
            }
          },
          "metadata": {},
          "execution_count": 1
        }
      ]
    },
    {
      "cell_type": "code",
      "source": [
        "!pip install --upgrade --no-cache-dir gdown"
      ],
      "metadata": {
        "colab": {
          "base_uri": "https://localhost:8080/"
        },
        "id": "gowedUu0eE3v",
        "outputId": "81aec828-f206-4ee3-e50c-8b4c85e75929"
      },
      "execution_count": null,
      "outputs": [
        {
          "output_type": "stream",
          "name": "stdout",
          "text": [
            "Looking in indexes: https://pypi.org/simple, https://us-python.pkg.dev/colab-wheels/public/simple/\n",
            "Requirement already satisfied: gdown in /usr/local/lib/python3.9/dist-packages (4.6.4)\n",
            "Requirement already satisfied: beautifulsoup4 in /usr/local/lib/python3.9/dist-packages (from gdown) (4.9.3)\n",
            "Requirement already satisfied: six in /usr/local/lib/python3.9/dist-packages (from gdown) (1.15.0)\n",
            "Requirement already satisfied: filelock in /usr/local/lib/python3.9/dist-packages (from gdown) (3.9.0)\n",
            "Requirement already satisfied: tqdm in /usr/local/lib/python3.9/dist-packages (from gdown) (4.65.0)\n",
            "Requirement already satisfied: requests[socks] in /usr/local/lib/python3.9/dist-packages (from gdown) (2.25.1)\n",
            "Requirement already satisfied: soupsieve>1.2 in /usr/local/lib/python3.9/dist-packages (from beautifulsoup4->gdown) (2.4)\n",
            "Requirement already satisfied: urllib3<1.27,>=1.21.1 in /usr/local/lib/python3.9/dist-packages (from requests[socks]->gdown) (1.26.14)\n",
            "Requirement already satisfied: idna<3,>=2.5 in /usr/local/lib/python3.9/dist-packages (from requests[socks]->gdown) (2.10)\n",
            "Requirement already satisfied: certifi>=2017.4.17 in /usr/local/lib/python3.9/dist-packages (from requests[socks]->gdown) (2022.12.7)\n",
            "Requirement already satisfied: chardet<5,>=3.0.2 in /usr/local/lib/python3.9/dist-packages (from requests[socks]->gdown) (4.0.0)\n",
            "Requirement already satisfied: PySocks!=1.5.7,>=1.5.6 in /usr/local/lib/python3.9/dist-packages (from requests[socks]->gdown) (1.7.1)\n"
          ]
        }
      ]
    },
    {
      "cell_type": "code",
      "execution_count": null,
      "metadata": {
        "id": "1KDrUFtYOVlv"
      },
      "outputs": [],
      "source": [
        "!gdown --id 1sA7TEvhSAH3KZrBkad15nGK0reJvuxWx\n",
        "!unzip -o CNN_dataset.zip"
      ]
    },
    {
      "cell_type": "code",
      "source": [
        "# Loading Dataset and splitting into train and validation\n",
        "datasetPath = '/content/CNN_dataset/'\n",
        "\n",
        "img_datagen = ImageDataGenerator(rescale=1./225,\n",
        "                                 shear_range=0.4, \n",
        "                                 zoom_range=0.4,\n",
        "                                 width_shift_range=0.2,\n",
        "                                 height_shift_range=0.2,\n",
        "                                 horizontal_flip=True,\n",
        "                                 vertical_flip=True,\n",
        "                                 validation_split=0.1)\n",
        "\n",
        "training_dataset = img_datagen.flow_from_directory(\n",
        "                                          directory=datasetPath, \n",
        "                                          target_size=(64, 64), \n",
        "                                          shuffle=True,\n",
        "                                          batch_size=20, \n",
        "                                          subset='training',\n",
        "                                          class_mode='categorical')\n",
        "\n",
        "validation_dataset = img_datagen.flow_from_directory(\n",
        "                                          directory=datasetPath, \n",
        "                                          target_size=(64, 64), \n",
        "                                          shuffle=True,\n",
        "                                          batch_size=20, \n",
        "                                          subset='validation',\n",
        "                                          class_mode='categorical')"
      ],
      "metadata": {
        "colab": {
          "base_uri": "https://localhost:8080/"
        },
        "id": "dfBwon6VeVj1",
        "outputId": "75791fa0-0a23-4874-d9f4-75c9e9e7df0e"
      },
      "execution_count": null,
      "outputs": [
        {
          "output_type": "stream",
          "name": "stdout",
          "text": [
            "Found 45000 images belonging to 5 classes.\n",
            "Found 5000 images belonging to 5 classes.\n"
          ]
        }
      ]
    },
    {
      "cell_type": "code",
      "source": [
        "# The Convolutional Neural Network\n",
        "cnn_clf = Sequential()\n",
        "cnn_clf.add(Convolution2D(32, kernel_size=(3, 3), input_shape=(64, 64, 3), activation='relu'))\n",
        "cnn_clf.add(MaxPool2D(pool_size=(2, 2)))\n",
        "cnn_clf.add(Convolution2D(64, kernel_size=(3, 3), activation='relu'))\n",
        "cnn_clf.add(MaxPool2D(pool_size=(2, 2)))\n",
        "cnn_clf.add(Convolution2D(64, kernel_size=(3, 3), activation='relu'))\n",
        "cnn_clf.add(Flatten())\n",
        "cnn_clf.add(Dense(64, activation='relu'))\n",
        "cnn_clf.add(Dense(5, activation='softmax'))\n",
        "cnn_clf.summary()"
      ],
      "metadata": {
        "colab": {
          "base_uri": "https://localhost:8080/"
        },
        "id": "hPdHFZAPPFPb",
        "outputId": "225884ee-1d58-48be-8f82-eb6821f5ce7f"
      },
      "execution_count": null,
      "outputs": [
        {
          "output_type": "stream",
          "name": "stdout",
          "text": [
            "Model: \"sequential\"\n",
            "_________________________________________________________________\n",
            " Layer (type)                Output Shape              Param #   \n",
            "=================================================================\n",
            " conv2d (Conv2D)             (None, 62, 62, 32)        896       \n",
            "                                                                 \n",
            " max_pooling2d (MaxPooling2D  (None, 31, 31, 32)       0         \n",
            " )                                                               \n",
            "                                                                 \n",
            " conv2d_1 (Conv2D)           (None, 29, 29, 64)        18496     \n",
            "                                                                 \n",
            " max_pooling2d_1 (MaxPooling  (None, 14, 14, 64)       0         \n",
            " 2D)                                                             \n",
            "                                                                 \n",
            " conv2d_2 (Conv2D)           (None, 12, 12, 64)        36928     \n",
            "                                                                 \n",
            " flatten (Flatten)           (None, 9216)              0         \n",
            "                                                                 \n",
            " dense (Dense)               (None, 64)                589888    \n",
            "                                                                 \n",
            " dense_1 (Dense)             (None, 5)                 325       \n",
            "                                                                 \n",
            "=================================================================\n",
            "Total params: 646,533\n",
            "Trainable params: 646,533\n",
            "Non-trainable params: 0\n",
            "_________________________________________________________________\n"
          ]
        }
      ]
    },
    {
      "cell_type": "code",
      "source": [
        "# Compiling the model\n",
        "cnn_clf.compile(loss='categorical_crossentropy', optimizer='adam', metrics=['accuracy'])"
      ],
      "metadata": {
        "id": "RSN0edXUcfJr"
      },
      "execution_count": null,
      "outputs": []
    },
    {
      "cell_type": "code",
      "source": [
        "# Model Training\n",
        "history = cnn_clf.fit(training_dataset, epochs=15, validation_data=validation_dataset)"
      ],
      "metadata": {
        "colab": {
          "base_uri": "https://localhost:8080/"
        },
        "id": "b79LNHDCdWIU",
        "outputId": "5c1353ff-997b-41c4-cca2-27d3d48bbaab"
      },
      "execution_count": null,
      "outputs": [
        {
          "output_type": "stream",
          "name": "stdout",
          "text": [
            "Epoch 1/15\n",
            "2250/2250 [==============================] - 115s 49ms/step - loss: 0.1526 - accuracy: 0.9448 - val_loss: 0.0359 - val_accuracy: 0.9884\n",
            "Epoch 2/15\n",
            "2250/2250 [==============================] - 99s 44ms/step - loss: 0.0621 - accuracy: 0.9807 - val_loss: 0.0233 - val_accuracy: 0.9924\n",
            "Epoch 3/15\n",
            "2250/2250 [==============================] - 100s 44ms/step - loss: 0.0344 - accuracy: 0.9888 - val_loss: 0.0153 - val_accuracy: 0.9942\n",
            "Epoch 4/15\n",
            "2250/2250 [==============================] - 101s 45ms/step - loss: 0.0208 - accuracy: 0.9929 - val_loss: 0.0090 - val_accuracy: 0.9968\n",
            "Epoch 5/15\n",
            "2250/2250 [==============================] - 99s 44ms/step - loss: 0.0211 - accuracy: 0.9945 - val_loss: 0.0255 - val_accuracy: 0.9934\n",
            "Epoch 6/15\n",
            "2250/2250 [==============================] - 101s 45ms/step - loss: 0.0152 - accuracy: 0.9951 - val_loss: 0.0088 - val_accuracy: 0.9964\n",
            "Epoch 7/15\n",
            "2250/2250 [==============================] - 100s 44ms/step - loss: 0.0143 - accuracy: 0.9951 - val_loss: 0.0082 - val_accuracy: 0.9974\n",
            "Epoch 8/15\n",
            "2250/2250 [==============================] - 100s 45ms/step - loss: 0.0103 - accuracy: 0.9966 - val_loss: 0.0041 - val_accuracy: 0.9986\n",
            "Epoch 9/15\n",
            "2250/2250 [==============================] - 100s 45ms/step - loss: 0.0124 - accuracy: 0.9963 - val_loss: 0.0099 - val_accuracy: 0.9970\n",
            "Epoch 10/15\n",
            "2250/2250 [==============================] - 100s 45ms/step - loss: 0.0100 - accuracy: 0.9969 - val_loss: 0.0119 - val_accuracy: 0.9964\n",
            "Epoch 11/15\n",
            "2250/2250 [==============================] - 98s 43ms/step - loss: 0.0075 - accuracy: 0.9979 - val_loss: 0.0074 - val_accuracy: 0.9976\n",
            "Epoch 12/15\n",
            "2250/2250 [==============================] - 100s 45ms/step - loss: 0.0089 - accuracy: 0.9973 - val_loss: 0.0042 - val_accuracy: 0.9982\n",
            "Epoch 13/15\n",
            "2250/2250 [==============================] - 101s 45ms/step - loss: 0.0116 - accuracy: 0.9967 - val_loss: 0.0017 - val_accuracy: 0.9994\n",
            "Epoch 14/15\n",
            "2250/2250 [==============================] - 99s 44ms/step - loss: 0.0073 - accuracy: 0.9979 - val_loss: 0.0042 - val_accuracy: 0.9986\n",
            "Epoch 15/15\n",
            "2250/2250 [==============================] - 99s 44ms/step - loss: 0.0085 - accuracy: 0.9974 - val_loss: 0.0070 - val_accuracy: 0.9984\n"
          ]
        }
      ]
    },
    {
      "cell_type": "code",
      "source": [
        "# Plotting Accuracy vs Loss over the epoch during training\n",
        "acc = history.history['accuracy']\n",
        "val_acc = history.history['val_accuracy']\n",
        "loss = history.history['loss']\n",
        "val_loss = history.history['val_loss']\n",
        "\n",
        "epochs = range(1, len(acc) + 1)\n",
        "\n",
        "plt.plot(epochs, acc, 'bo',label='Training acc')\n",
        "plt.plot(epochs, val_acc, 'g', label='Validation acc')\n",
        "plt.title('Training and validation accuracy')\n",
        "plt.legend()\n",
        "plt.figure()\n",
        "\n",
        "plt.plot(epochs, loss, 'bo', label='Training loss')\n",
        "plt.plot(epochs, val_loss, 'g', label='Validation loss')\n",
        "plt.title('Training and validation loss')\n",
        "plt.legend()\n",
        "plt.show()"
      ],
      "metadata": {
        "colab": {
          "base_uri": "https://localhost:8080/",
          "height": 545
        },
        "id": "AEathGX3djE1",
        "outputId": "220f64f6-3536-465a-c477-cbfb88ef25ab"
      },
      "execution_count": null,
      "outputs": [
        {
          "output_type": "display_data",
          "data": {
            "text/plain": [
              "<Figure size 432x288 with 1 Axes>"
            ],
            "image/png": "[encoded data removed]"
          },
          "metadata": {
            "needs_background": "light"
          }
        },
        {
          "output_type": "display_data",
          "data": {
            "text/plain": [
              "<Figure size 432x288 with 1 Axes>"
            ],
            "image/png": "[encoded data removed]"
          },
          "metadata": {
            "needs_background": "light"
          }
        }
      ]
    }
  ]
}