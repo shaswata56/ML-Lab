{
  "nbformat": 4,
  "nbformat_minor": 0,
  "metadata": {
    "colab": {
      "provenance": []
    },
    "kernelspec": {
      "name": "python3",
      "display_name": "Python 3"
    },
    "language_info": {
      "name": "python"
    },
    "accelerator": "GPU",
    "gpuClass": "standard"
  },
  "cells": [
    {
      "cell_type": "markdown",
      "source": [
        "# Name: Shaswata Das\n",
        "# Registration No: 2017831050\n",
        "\n",
        "<a target=\"_blank\" href=\"https://colab.research.google.com/github/shaswata56/ML-Lab/blob/main/Final/ML_Lab_Final_Assignment_2017831050.ipynb\">\n",
        "  <img src=\"https://colab.research.google.com/assets/colab-badge.svg\" alt=\"Open In Colab\"/>\n",
        "</a>"
      ],
      "metadata": {
        "id": "Gl8303mrsW_E"
      }
    },
    {
      "cell_type": "code",
      "source": [
        "# Importing Modules\n",
        "import numpy as np\n",
        "import tensorflow as tf\n",
        "import matplotlib.pyplot as plt\n",
        "from tensorflow.keras.layers import Dense\n",
        "from tensorflow.keras.layers import Flatten\n",
        "from tensorflow.keras.layers import Dropout\n",
        "from tensorflow.keras.layers import MaxPool2D\n",
        "from tensorflow.keras.models import Sequential\n",
        "from tensorflow.keras.layers import Convolution2D\n",
        "from keras.preprocessing.image import ImageDataGenerator\n",
        "tf.test.gpu_device_name()"
      ],
      "metadata": {
        "colab": {
          "base_uri": "https://localhost:8080/",
          "height": 35
        },
        "id": "9HnIQqNSgbQz",
        "outputId": "41c71796-00a9-4eb1-a301-ea2ad1a9c164"
      },
      "execution_count": 1,
      "outputs": [
        {
          "output_type": "execute_result",
          "data": {
            "text/plain": [
              "'/device:GPU:0'"
            ],
            "application/vnd.google.colaboratory.intrinsic+json": {
              "type": "string"
            }
          },
          "metadata": {},
          "execution_count": 1
        }
      ]
    },
    {
      "cell_type": "code",
      "source": [
        "!pip install --upgrade --no-cache-dir gdown"
      ],
      "metadata": {
        "colab": {
          "base_uri": "https://localhost:8080/"
        },
        "id": "gowedUu0eE3v",
        "outputId": "1ec2747a-112b-41a4-9865-65398ad4d551"
      },
      "execution_count": 2,
      "outputs": [
        {
          "output_type": "stream",
          "name": "stdout",
          "text": [
            "Looking in indexes: https://pypi.org/simple, https://us-python.pkg.dev/colab-wheels/public/simple/\n",
            "Requirement already satisfied: gdown in /usr/local/lib/python3.9/dist-packages (4.4.0)\n",
            "Collecting gdown\n",
            "  Downloading gdown-4.6.4-py3-none-any.whl (14 kB)\n",
            "Requirement already satisfied: six in /usr/local/lib/python3.9/dist-packages (from gdown) (1.15.0)\n",
            "Requirement already satisfied: filelock in /usr/local/lib/python3.9/dist-packages (from gdown) (3.9.0)\n",
            "Requirement already satisfied: beautifulsoup4 in /usr/local/lib/python3.9/dist-packages (from gdown) (4.9.3)\n",
            "Requirement already satisfied: requests[socks] in /usr/local/lib/python3.9/dist-packages (from gdown) (2.25.1)\n",
            "Requirement already satisfied: tqdm in /usr/local/lib/python3.9/dist-packages (from gdown) (4.65.0)\n",
            "Requirement already satisfied: soupsieve>1.2 in /usr/local/lib/python3.9/dist-packages (from beautifulsoup4->gdown) (2.4)\n",
            "Requirement already satisfied: idna<3,>=2.5 in /usr/local/lib/python3.9/dist-packages (from requests[socks]->gdown) (2.10)\n",
            "Requirement already satisfied: urllib3<1.27,>=1.21.1 in /usr/local/lib/python3.9/dist-packages (from requests[socks]->gdown) (1.26.14)\n",
            "Requirement already satisfied: certifi>=2017.4.17 in /usr/local/lib/python3.9/dist-packages (from requests[socks]->gdown) (2022.12.7)\n",
            "Requirement already satisfied: chardet<5,>=3.0.2 in /usr/local/lib/python3.9/dist-packages (from requests[socks]->gdown) (4.0.0)\n",
            "Requirement already satisfied: PySocks!=1.5.7,>=1.5.6 in /usr/local/lib/python3.9/dist-packages (from requests[socks]->gdown) (1.7.1)\n",
            "Installing collected packages: gdown\n",
            "  Attempting uninstall: gdown\n",
            "    Found existing installation: gdown 4.4.0\n",
            "    Uninstalling gdown-4.4.0:\n",
            "      Successfully uninstalled gdown-4.4.0\n",
            "Successfully installed gdown-4.6.4\n"
          ]
        }
      ]
    },
    {
      "cell_type": "code",
      "execution_count": null,
      "metadata": {
        "id": "1KDrUFtYOVlv"
      },
      "outputs": [],
      "source": [
        "!gdown --id 1sA7TEvhSAH3KZrBkad15nGK0reJvuxWx\n",
        "!unzip -o CNN_dataset.zip"
      ]
    },
    {
      "cell_type": "code",
      "source": [
        "# Loading Dataset and splitting into train and validation\n",
        "datasetPath = '/content/CNN_dataset/'\n",
        "\n",
        "img_datagen = ImageDataGenerator(rescale=1./225,\n",
        "                                 shear_range=0.2, \n",
        "                                 zoom_range=0.2,\n",
        "                                 width_shift_range=0.2,\n",
        "                                 height_shift_range=0.2,\n",
        "                                 horizontal_flip=True,\n",
        "                                 vertical_flip=True,\n",
        "                                 validation_split=0.1)\n",
        "\n",
        "training_dataset = img_datagen.flow_from_directory(\n",
        "                                          directory=datasetPath, \n",
        "                                          target_size=(64, 64), \n",
        "                                          shuffle=True,\n",
        "                                          batch_size=8, \n",
        "                                          subset='training',\n",
        "                                          class_mode='categorical')\n",
        "\n",
        "validation_dataset = img_datagen.flow_from_directory(\n",
        "                                          directory=datasetPath, \n",
        "                                          target_size=(64, 64), \n",
        "                                          shuffle=True,\n",
        "                                          batch_size=8, \n",
        "                                          subset='validation',\n",
        "                                          class_mode='categorical')"
      ],
      "metadata": {
        "colab": {
          "base_uri": "https://localhost:8080/"
        },
        "id": "dfBwon6VeVj1",
        "outputId": "fd654933-e6f9-4296-a5c5-0699e0694c35"
      },
      "execution_count": 4,
      "outputs": [
        {
          "output_type": "stream",
          "name": "stdout",
          "text": [
            "Found 45000 images belonging to 5 classes.\n",
            "Found 5000 images belonging to 5 classes.\n"
          ]
        }
      ]
    },
    {
      "cell_type": "code",
      "source": [
        "class_dict = training_dataset.class_indices\n",
        "class_names = [str(keys) for keys in class_dict]\n",
        "print(class_names)"
      ],
      "metadata": {
        "colab": {
          "base_uri": "https://localhost:8080/"
        },
        "id": "amuv3k9EGK1n",
        "outputId": "b45aa43b-089c-4a01-9912-a8dd199f88e6"
      },
      "execution_count": 5,
      "outputs": [
        {
          "output_type": "stream",
          "name": "stdout",
          "text": [
            "['AbdomenCT', 'CXR', 'ChestCT', 'Hand', 'HeadCT']\n"
          ]
        }
      ]
    },
    {
      "cell_type": "code",
      "source": [
        "# The Convolutional Neural Network\n",
        "cnn_clf = Sequential()\n",
        "cnn_clf.add(Convolution2D(32, kernel_size=(3, 3), input_shape=(64, 64, 3), activation='relu'))\n",
        "cnn_clf.add(MaxPool2D(pool_size=(2, 2)))\n",
        "cnn_clf.add(Convolution2D(64, kernel_size=(3, 3), activation='relu'))\n",
        "cnn_clf.add(MaxPool2D(pool_size=(2, 2)))\n",
        "cnn_clf.add(Convolution2D(64, kernel_size=(3, 3), activation='relu'))\n",
        "cnn_clf.add(Flatten())\n",
        "cnn_clf.add(Dense(64, activation='relu'))\n",
        "cnn_clf.add(Dropout(0.3))\n",
        "cnn_clf.add(Dense(5, activation='softmax'))\n",
        "cnn_clf.summary()"
      ],
      "metadata": {
        "colab": {
          "base_uri": "https://localhost:8080/"
        },
        "id": "hPdHFZAPPFPb",
        "outputId": "bb535431-a88f-40d5-80bf-9bc308770af9"
      },
      "execution_count": 6,
      "outputs": [
        {
          "output_type": "stream",
          "name": "stdout",
          "text": [
            "Model: \"sequential\"\n",
            "_________________________________________________________________\n",
            " Layer (type)                Output Shape              Param #   \n",
            "=================================================================\n",
            " conv2d (Conv2D)             (None, 62, 62, 32)        896       \n",
            "                                                                 \n",
            " max_pooling2d (MaxPooling2D  (None, 31, 31, 32)       0         \n",
            " )                                                               \n",
            "                                                                 \n",
            " conv2d_1 (Conv2D)           (None, 29, 29, 64)        18496     \n",
            "                                                                 \n",
            " max_pooling2d_1 (MaxPooling  (None, 14, 14, 64)       0         \n",
            " 2D)                                                             \n",
            "                                                                 \n",
            " conv2d_2 (Conv2D)           (None, 12, 12, 64)        36928     \n",
            "                                                                 \n",
            " flatten (Flatten)           (None, 9216)              0         \n",
            "                                                                 \n",
            " dense (Dense)               (None, 64)                589888    \n",
            "                                                                 \n",
            " dropout (Dropout)           (None, 64)                0         \n",
            "                                                                 \n",
            " dense_1 (Dense)             (None, 5)                 325       \n",
            "                                                                 \n",
            "=================================================================\n",
            "Total params: 646,533\n",
            "Trainable params: 646,533\n",
            "Non-trainable params: 0\n",
            "_________________________________________________________________\n"
          ]
        }
      ]
    },
    {
      "cell_type": "code",
      "source": [
        "# Compiling the model\n",
        "cnn_clf.compile(loss='categorical_crossentropy', optimizer='adam', metrics=['accuracy'])"
      ],
      "metadata": {
        "id": "RSN0edXUcfJr"
      },
      "execution_count": 7,
      "outputs": []
    },
    {
      "cell_type": "code",
      "source": [
        "# Model Training\n",
        "history = cnn_clf.fit(training_dataset, epochs=15, validation_data=validation_dataset)\n",
        "cnn_clf.save_weights('/content/cnn_clf')"
      ],
      "metadata": {
        "colab": {
          "base_uri": "https://localhost:8080/"
        },
        "id": "b79LNHDCdWIU",
        "outputId": "11bbd03b-909f-436a-8c8e-ae8461308ce4"
      },
      "execution_count": 8,
      "outputs": [
        {
          "output_type": "stream",
          "name": "stdout",
          "text": [
            "Epoch 1/15\n",
            "5625/5625 [==============================] - 121s 19ms/step - loss: 0.1789 - accuracy: 0.9344 - val_loss: 0.0234 - val_accuracy: 0.9906\n",
            "Epoch 2/15\n",
            "5625/5625 [==============================] - 100s 18ms/step - loss: 0.0532 - accuracy: 0.9828 - val_loss: 0.0193 - val_accuracy: 0.9940\n",
            "Epoch 3/15\n",
            "5625/5625 [==============================] - 99s 18ms/step - loss: 0.0354 - accuracy: 0.9891 - val_loss: 0.0101 - val_accuracy: 0.9956\n",
            "Epoch 4/15\n",
            "5625/5625 [==============================] - 99s 18ms/step - loss: 0.0377 - accuracy: 0.9882 - val_loss: 0.0109 - val_accuracy: 0.9976\n",
            "Epoch 5/15\n",
            "5625/5625 [==============================] - 99s 18ms/step - loss: 0.0225 - accuracy: 0.9929 - val_loss: 0.0081 - val_accuracy: 0.9970\n",
            "Epoch 6/15\n",
            "5625/5625 [==============================] - 99s 18ms/step - loss: 0.0229 - accuracy: 0.9931 - val_loss: 0.0036 - val_accuracy: 0.9994\n",
            "Epoch 7/15\n",
            "5625/5625 [==============================] - 99s 18ms/step - loss: 0.0255 - accuracy: 0.9934 - val_loss: 0.0100 - val_accuracy: 0.9970\n",
            "Epoch 8/15\n",
            "5625/5625 [==============================] - 99s 18ms/step - loss: 0.0193 - accuracy: 0.9947 - val_loss: 0.0042 - val_accuracy: 0.9996\n",
            "Epoch 9/15\n",
            "5625/5625 [==============================] - 100s 18ms/step - loss: 0.0168 - accuracy: 0.9957 - val_loss: 0.0091 - val_accuracy: 0.9982\n",
            "Epoch 10/15\n",
            "5625/5625 [==============================] - 99s 18ms/step - loss: 0.0209 - accuracy: 0.9956 - val_loss: 0.0322 - val_accuracy: 0.9916\n",
            "Epoch 11/15\n",
            "5625/5625 [==============================] - 99s 18ms/step - loss: 0.0167 - accuracy: 0.9958 - val_loss: 0.0169 - val_accuracy: 0.9978\n",
            "Epoch 12/15\n",
            "5625/5625 [==============================] - 100s 18ms/step - loss: 0.0180 - accuracy: 0.9960 - val_loss: 0.0075 - val_accuracy: 0.9984\n",
            "Epoch 13/15\n",
            "5625/5625 [==============================] - 100s 18ms/step - loss: 0.0215 - accuracy: 0.9955 - val_loss: 0.0067 - val_accuracy: 0.9976\n",
            "Epoch 14/15\n",
            "5625/5625 [==============================] - 99s 18ms/step - loss: 0.0195 - accuracy: 0.9962 - val_loss: 0.0041 - val_accuracy: 0.9988\n",
            "Epoch 15/15\n",
            "5625/5625 [==============================] - 98s 17ms/step - loss: 0.0159 - accuracy: 0.9966 - val_loss: 0.0046 - val_accuracy: 0.9988\n"
          ]
        }
      ]
    },
    {
      "cell_type": "code",
      "source": [
        "# Plotting Accuracy vs Loss over the epoch during training\n",
        "acc = history.history['accuracy']\n",
        "val_acc = history.history['val_accuracy']\n",
        "loss = history.history['loss']\n",
        "val_loss = history.history['val_loss']\n",
        "\n",
        "epochs = range(1, len(acc) + 1)\n",
        "\n",
        "plt.plot(epochs, acc, 'bo',label='Training acc')\n",
        "plt.plot(epochs, val_acc, 'g', label='Validation acc')\n",
        "plt.title('Training and validation accuracy')\n",
        "plt.legend()\n",
        "plt.figure()\n",
        "\n",
        "plt.plot(epochs, loss, 'bo', label='Training loss')\n",
        "plt.plot(epochs, val_loss, 'g', label='Validation loss')\n",
        "plt.title('Training and validation loss')\n",
        "plt.legend()\n",
        "plt.show()"
      ],
      "metadata": {
        "colab": {
          "base_uri": "https://localhost:8080/",
          "height": 545
        },
        "id": "AEathGX3djE1",
        "outputId": "277762b8-1e12-42d5-828c-c725deea7dec"
      },
      "execution_count": 9,
      "outputs": [
        {
          "output_type": "display_data",
          "data": {
            "text/plain": [
              "<Figure size 432x288 with 1 Axes>"
            ],
            "image/png": "[encoded data removed]"
          },
          "metadata": {
            "needs_background": "light"
          }
        },
        {
          "output_type": "display_data",
          "data": {
            "text/plain": [
              "<Figure size 432x288 with 1 Axes>"
            ],
            "image/png": "[encoded data removed]"
          },
          "metadata": {
            "needs_background": "light"
          }
        }
      ]
    },
    {
      "cell_type": "code",
      "source": [
        "headct_url = 'http://headctstudy.qure.ai/static/imgs/stacks/QURE-8/12_orig.png'\n",
        "headct_path = tf.keras.utils.get_file('Head_CT', origin=headct_url)\n",
        "\n",
        "head_img = tf.keras.utils.load_img(\n",
        "    headct_path, target_size=(64, 64)\n",
        ")\n",
        "display(head_img)\n",
        "img_array = tf.keras.utils.img_to_array(head_img)\n",
        "img_array = tf.expand_dims(img_array, 0)\n",
        "\n",
        "predictions = cnn_clf.predict(img_array)\n",
        "score = tf.nn.softmax(predictions[0])\n",
        "\n",
        "print(\n",
        "    \"This image most likely belongs to {} with a {:.2f} percent confidence.\"\n",
        "    .format(class_names[np.argmax(score)], 100 * np.max(score))\n",
        ")"
      ],
      "metadata": {
        "id": "1HnTB6v_CWIF",
        "colab": {
          "base_uri": "https://localhost:8080/",
          "height": 154
        },
        "outputId": "b496683c-5cc7-4e3a-b467-cf1ed984cce3"
      },
      "execution_count": 10,
      "outputs": [
        {
          "output_type": "stream",
          "name": "stdout",
          "text": [
            "Downloading data from http://headctstudy.qure.ai/static/imgs/stacks/QURE-8/12_orig.png\n",
            "57454/57454 [==============================] - 0s 2us/step\n"
          ]
        },
        {
          "output_type": "display_data",
          "data": {
            "text/plain": [
              "<PIL.Image.Image image mode=RGB size=64x64 at 0x7FA0B80E15E0>"
            ],
            "image/png": "[encoded data removed]"
          },
          "metadata": {}
        },
        {
          "output_type": "stream",
          "name": "stdout",
          "text": [
            "1/1 [==============================] - 0s 187ms/step\n",
            "This image most likely belongs to HeadCT with a 40.46 percent confidence.\n"
          ]
        }
      ]
    },
    {
      "cell_type": "code",
      "source": [
        "chestxr_url = 'https://breathe.ersjournals.com/content/breathe/12/2/e50/F1.large.jpg'\n",
        "chestxr_path = tf.keras.utils.get_file('Chest_XR', origin=chestxr_url)\n",
        "\n",
        "chestxr_img = tf.keras.utils.load_img(\n",
        "    chestxr_path, target_size=(64, 64)\n",
        ")\n",
        "display(chestxr_img)\n",
        "ximg_array = tf.keras.utils.img_to_array(chestxr_img)\n",
        "ximg_array = tf.expand_dims(ximg_array, 0)\n",
        "\n",
        "predictions = cnn_clf.predict(ximg_array)\n",
        "score = tf.nn.softmax(predictions[0])\n",
        "\n",
        "print(\n",
        "    \"This image most likely belongs to {} with a {:.2f} percent confidence.\"\n",
        "    .format(class_names[np.argmax(score)], 100 * np.max(score))\n",
        ")"
      ],
      "metadata": {
        "colab": {
          "base_uri": "https://localhost:8080/",
          "height": 154
        },
        "id": "CLyhtKjzHaJZ",
        "outputId": "de582830-0f3a-4155-f386-646949ed712c"
      },
      "execution_count": 11,
      "outputs": [
        {
          "output_type": "stream",
          "name": "stdout",
          "text": [
            "Downloading data from https://breathe.ersjournals.com/content/breathe/12/2/e50/F1.large.jpg\n",
            "175498/175498 [==============================] - 0s 2us/step\n"
          ]
        },
        {
          "output_type": "display_data",
          "data": {
            "text/plain": [
              "<PIL.Image.Image image mode=RGB size=64x64 at 0x7FA0C2186CD0>"
            ],
            "image/png": "[encoded data removed]"
          },
          "metadata": {}
        },
        {
          "output_type": "stream",
          "name": "stdout",
          "text": [
            "1/1 [==============================] - 0s 28ms/step\n",
            "This image most likely belongs to CXR with a 40.46 percent confidence.\n"
          ]
        }
      ]
    },
    {
      "cell_type": "code",
      "source": [
        "hand_url = 'https://upload.wikimedia.org/wikipedia/commons/e/e2/X-ray_of_normal_hand_by_dorsoplantar_projection.jpg'\n",
        "hand_path = tf.keras.utils.get_file('hand', origin=hand_url)\n",
        "\n",
        "hand_img = tf.keras.utils.load_img(\n",
        "    hand_path, target_size=(64, 64)\n",
        ")\n",
        "display(hand_img)\n",
        "himg_array = tf.keras.utils.img_to_array(hand_img)\n",
        "himg_array = tf.expand_dims(himg_array, 0)\n",
        "\n",
        "predictions = cnn_clf.predict(himg_array)\n",
        "score = tf.nn.softmax(predictions[0])\n",
        "\n",
        "print(\n",
        "    \"This image most likely belongs to {} with a {:.2f} percent confidence.\"\n",
        "    .format(class_names[np.argmax(score)], 100 * np.max(score))\n",
        ")"
      ],
      "metadata": {
        "colab": {
          "base_uri": "https://localhost:8080/",
          "height": 154
        },
        "id": "AVer7Ayo7_KJ",
        "outputId": "8eddc549-25e2-4548-9772-ed694a15a918"
      },
      "execution_count": 12,
      "outputs": [
        {
          "output_type": "stream",
          "name": "stdout",
          "text": [
            "Downloading data from https://upload.wikimedia.org/wikipedia/commons/e/e2/X-ray_of_normal_hand_by_dorsoplantar_projection.jpg\n",
            "505312/505312 [==============================] - 0s 0us/step\n"
          ]
        },
        {
          "output_type": "display_data",
          "data": {
            "text/plain": [
              "<PIL.Image.Image image mode=RGB size=64x64 at 0x7FA0C24A6A60>"
            ],
            "image/png": "[encoded data removed]"
          },
          "metadata": {}
        },
        {
          "output_type": "stream",
          "name": "stdout",
          "text": [
            "1/1 [==============================] - 0s 23ms/step\n",
            "This image most likely belongs to Hand with a 40.46 percent confidence.\n"
          ]
        }
      ]
    }
  ]
}